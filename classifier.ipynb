{
 "cells": [
  {
   "cell_type": "markdown",
   "metadata": {
    "colab_type": "text",
    "id": "vyAvAW2gn30f"
   },
   "source": [
    "**Imports**"
   ]
  },
  {
   "cell_type": "code",
   "execution_count": 1,
   "metadata": {
    "colab": {
     "base_uri": "https://localhost:8080/",
     "height": 33
    },
    "colab_type": "code",
    "id": "ciaMip-Ai2UV",
    "outputId": "84ebfb36-4aef-4f44-c012-10e934275b1e"
   },
   "outputs": [
    {
     "name": "stderr",
     "output_type": "stream",
     "text": [
      "Using TensorFlow backend.\n"
     ]
    }
   ],
   "source": [
    "import tensorflow.keras as keras\n",
    "import tensorflow as tf\n",
    "import pandas as pd\n",
    "import numpy as np\n",
    "import matplotlib.pyplot as plt\n",
    "\n",
    "from keras.optimizers import SGD\n",
    "from keras.models import load_model\n",
    "from keras.models import Sequential\n",
    "from keras.layers import Dense\n",
    "from keras.layers import Dropout\n",
    "from keras.layers import Flatten\n",
    "from keras.constraints import maxnorm\n",
    "from keras.optimizers import SGD\n",
    "from keras.layers import Activation\n",
    "from keras.layers.convolutional import Conv2D, Convolution2D\n",
    "from keras.layers.convolutional import MaxPooling2D\n",
    "from keras.layers.normalization import BatchNormalization\n",
    "from google.colab import drive, files \n",
    "from astropy.io import fits\n",
    "from astropy.utils.data import get_pkg_data_filename\n",
    "from astropy.convolution import Gaussian2DKernel, interpolate_replace_nans\n",
    "from sklearn.metrics import accuracy_score"
   ]
  },
  {
   "cell_type": "markdown",
   "metadata": {
    "colab_type": "text",
    "id": "ZTHoc6wUoBkG"
   },
   "source": [
    "**Functions**"
   ]
  },
  {
   "cell_type": "code",
   "execution_count": 0,
   "metadata": {
    "colab": {},
    "colab_type": "code",
    "id": "ei-caAtnLHIG"
   },
   "outputs": [],
   "source": [
    "def process_images(df):\n",
    "    processed = []\n",
    "    for row in df.values:\n",
    "        kernel = Gaussian2DKernel(x_stddev=1.5, x_size = 5, y_size = 5)\n",
    "        img = np.reshape(row, (32, 32))\n",
    "        fixed_image = interpolate_replace_nans(img, kernel, boundary='extend')\n",
    "        \n",
    "        processed.append(fixed_image.flatten())\n",
    "\n",
    "    df = pd.DataFrame(processed)\n",
    "    return df"
   ]
  },
  {
   "cell_type": "code",
   "execution_count": 0,
   "metadata": {
    "colab": {},
    "colab_type": "code",
    "id": "CihXs89BLZxa"
   },
   "outputs": [],
   "source": [
    "def remove_outliers(data, threshold = 3):\n",
    "    means = data.mean()\n",
    "    stds = data.std()\n",
    "    \n",
    "    zscores = (data - means) / stds\n",
    "    zscores = zscores.abs()\n",
    "    \n",
    "    valid_data = data[zscores <= threshold]\n",
    "    \n",
    "    return valid_data\n",
    "\n",
    "def remove_outliers_modzscore(data, threshold = 3.5):\n",
    "    \n",
    "    median = data.median()\n",
    "    \n",
    "    median_absD = data - median\n",
    "    median_absD = median_absD.abs()\n",
    "    median_absD = median_absD.median()\n",
    "    \n",
    "    mod_zscore = (0.6475 * (data - median)) / median_absD\n",
    "    mod_zScore = mod_zscore.abs()\n",
    "    \n",
    "    valid_data = data[mod_zscore <= threshold]\n",
    "    \n",
    "    return valid_data"
   ]
  },
  {
   "cell_type": "code",
   "execution_count": 0,
   "metadata": {
    "colab": {},
    "colab_type": "code",
    "id": "DeZ511WGi2UZ"
   },
   "outputs": [],
   "source": [
    "def process_data(data, outlier_flag = True):\n",
    "    cols = data.columns.tolist()[368:1392]\n",
    "    label = None\n",
    "    df = pd.DataFrame(data[cols])  \n",
    "    \n",
    "    df = process_images(df)\n",
    "    \n",
    "    if outlier_flag == True:\n",
    "        \n",
    "        l0_df = df[data['label'] == 0]\n",
    "        l0_df = remove_outliers_modzscore(l0_df, 2.5)\n",
    "        l0_df = l0_df.dropna()\n",
    "        l0_df['label'] = 0\n",
    "        \n",
    "        l1_df = df[data['label'] == 1]\n",
    "        l1_df = remove_outliers_modzscore(l1_df, 2.5)\n",
    "        l1_df = l1_df.dropna()\n",
    "        l1_df['label'] = 1\n",
    "        \n",
    "        l2_df = df[data['label'] == 2]\n",
    "        l2_df = remove_outliers_modzscore(l2_df, 2.5)\n",
    "        l2_df = l2_df.dropna()\n",
    "        l2_df['label'] = 2\n",
    "        \n",
    "        l3_df = df[data['label'] == 3]\n",
    "        l3_df = remove_outliers_modzscore(l3_df, 2.5)\n",
    "        l3_df = l3_df.dropna()\n",
    "        l3_df['label'] = 3\n",
    "        \n",
    "        l4_df = df[data['label'] == 4]\n",
    "        l4_df = remove_outliers_modzscore(l4_df, 2.5)\n",
    "        l4_df = l4_df.dropna()\n",
    "        l4_df['label'] = 4\n",
    "        \n",
    "        l5_df = df[data['label'] == 5]\n",
    "        l5_df = remove_outliers_modzscore(l5_df, 2.5)\n",
    "        l5_df = l5_df.dropna()\n",
    "        l5_df['label'] = 5\n",
    "        \n",
    "        l6_df = df[data['label'] == 6]\n",
    "        l6_df = remove_outliers_modzscore(l6_df, 2.5)\n",
    "        l6_df = l6_df.dropna()\n",
    "        l6_df['label'] = 6\n",
    "        \n",
    "        l7_df = df[data['label'] == 7]\n",
    "        l7_df = remove_outliers_modzscore(l7_df, 2.5)\n",
    "        l7_df = l7_df.dropna()\n",
    "        l7_df['label'] = 7\n",
    "        \n",
    "        l8_df = df[data['label'] == 8]\n",
    "        l8_df = remove_outliers_modzscore(l8_df, 2.5)\n",
    "        l8_df = l8_df.dropna()\n",
    "        l8_df['label'] = 8\n",
    "        \n",
    "        l9_df = df[data['label'] == 9]\n",
    "        l9_df = remove_outliers_modzscore(l9_df, 2.5)\n",
    "        l9_df = l9_df.dropna()\n",
    "        l9_df['label'] = 9\n",
    "        \n",
    "        label_df = pd.concat([l0_df, l1_df, l2_df, l3_df, l4_df, l5_df, l6_df, l7_df, l8_df, l9_df])\n",
    "        \n",
    "        df = label_df.sample(frac = 1).reset_index(drop = True)\n",
    "        \n",
    "        label = df['label']\n",
    "        del df['label']\n",
    "    \n",
    "    result = tf.keras.utils.normalize(df.values, axis = 1, order = 2)\n",
    "    \n",
    "    return result, label"
   ]
  },
  {
   "cell_type": "code",
   "execution_count": 0,
   "metadata": {
    "colab": {},
    "colab_type": "code",
    "id": "gi0xmmzvi2Ud"
   },
   "outputs": [],
   "source": [
    "def write_output(predictions):\n",
    "    output = []\n",
    "    index = 0\n",
    "    for pred in predictions:\n",
    "        output.append([index, int(pred)])\n",
    "        index += 1\n",
    "\n",
    "    df = pd.DataFrame(output, columns = ['id', 'label'])\n",
    "    df.to_csv('test_predictions.csv', index=False, encoding='utf-8')\n",
    "    files.download('test_predictions.csv')"
   ]
  },
  {
   "cell_type": "code",
   "execution_count": 0,
   "metadata": {
    "colab": {},
    "colab_type": "code",
    "id": "4O0MMkkfkv4M"
   },
   "outputs": [],
   "source": [
    "def resize_data(data):\n",
    "    data = np.reshape(data, (len(data), 32, 32))\n",
    "    processed = []\n",
    "\n",
    "    for row in data:\n",
    "        d = np.repeat(row, 3, axis = 1)\n",
    "        k = np.reshape(d, (1024, 3))\n",
    "        j = np.reshape(d, (32, 32, 3))\n",
    "        processed.append(j)\n",
    "\n",
    "    return np.array(processed)"
   ]
  },
  {
   "cell_type": "markdown",
   "metadata": {
    "colab_type": "text",
    "id": "F5Wm-qGxoJCG"
   },
   "source": [
    "**Connect Drive to Colab**"
   ]
  },
  {
   "cell_type": "code",
   "execution_count": 7,
   "metadata": {
    "colab": {
     "base_uri": "https://localhost:8080/",
     "height": 33
    },
    "colab_type": "code",
    "id": "qKHW84cPnO_R",
    "outputId": "cd4eda80-e111-4810-bb96-a6948146d1fa"
   },
   "outputs": [
    {
     "name": "stdout",
     "output_type": "stream",
     "text": [
      "Drive already mounted at /content/drive; to attempt to forcibly remount, call drive.mount(\"/content/drive\", force_remount=True).\n"
     ]
    }
   ],
   "source": [
    "drive.mount('/content/drive')"
   ]
  },
  {
   "cell_type": "markdown",
   "metadata": {
    "colab_type": "text",
    "id": "dBTLroNYoXlb"
   },
   "source": [
    "**Reading Data**"
   ]
  },
  {
   "cell_type": "code",
   "execution_count": 0,
   "metadata": {
    "colab": {},
    "colab_type": "code",
    "id": "qixhdsDCi2Uk"
   },
   "outputs": [],
   "source": [
    "train_data = pd.read_csv(\"/content/drive/My Drive/DM Data/Train.csv\")\n",
    "test_data = pd.read_csv(\"/content/drive/My Drive/DM Data/Test.csv\")"
   ]
  },
  {
   "cell_type": "markdown",
   "metadata": {
    "colab_type": "text",
    "id": "u43DP_xronDz"
   },
   "source": [
    "**Testing out convolution on a single image**"
   ]
  },
  {
   "cell_type": "code",
   "execution_count": 9,
   "metadata": {
    "colab": {
     "base_uri": "https://localhost:8080/",
     "height": 385
    },
    "colab_type": "code",
    "id": "VT3_itHmi2Un",
    "outputId": "e140ba41-852f-4b97-8bd1-f1d0f2a6d72f"
   },
   "outputs": [
    {
     "data": {
      "text/plain": [
       "Text(0.5, 1.0, 'Fixed interpolation')"
      ]
     },
     "execution_count": 9,
     "metadata": {
      "tags": []
     },
     "output_type": "execute_result"
    },
    {
     "data": {
      "image/png": "[encoded data removed]",
      "text/plain": [
       "<Figure size 864x432 with 2 Axes>"
      ]
     },
     "metadata": {
      "tags": []
     },
     "output_type": "display_data"
    }
   ],
   "source": [
    "cols = train_data.columns.tolist()[368:1392]\n",
    "\n",
    "df = pd.DataFrame(train_data[cols])  \n",
    "\n",
    "kernel = Gaussian2DKernel(x_stddev=1)\n",
    "img = np.reshape(df.values[0], (32, 32))\n",
    "\n",
    "fixed_image = interpolate_replace_nans(img, kernel, boundary='extend')\n",
    "\n",
    "plt.figure(1, figsize=(12, 6)).clf()\n",
    "plt.close(2)\n",
    "\n",
    "ax1 = plt.subplot(1, 2, 1)\n",
    "im = ax1.imshow(img)\n",
    "ax1.set_title(\"Original\")\n",
    "\n",
    "ax2 = plt.subplot(1, 2, 2)\n",
    "im = ax2.imshow(fixed_image)\n",
    "ax2.set_title(\"Fixed interpolation\")"
   ]
  },
  {
   "cell_type": "markdown",
   "metadata": {
    "colab_type": "text",
    "id": "gzCusPSlovUs"
   },
   "source": [
    "**Processing Data**"
   ]
  },
  {
   "cell_type": "code",
   "execution_count": 0,
   "metadata": {
    "colab": {},
    "colab_type": "code",
    "id": "dsn3KeWwi2Uv"
   },
   "outputs": [],
   "source": [
    "train, label = process_data(train_data)\n",
    "test, l = process_data(test_data, False)"
   ]
  },
  {
   "cell_type": "markdown",
   "metadata": {
    "colab_type": "text",
    "id": "fQUtOP-zTv7Y"
   },
   "source": [
    "**Reshaping Data into DataBlob**"
   ]
  },
  {
   "cell_type": "code",
   "execution_count": 11,
   "metadata": {
    "colab": {
     "base_uri": "https://localhost:8080/",
     "height": 33
    },
    "colab_type": "code",
    "id": "4X6ERBH0cPJZ",
    "outputId": "4c4953ed-b071-4b7f-e248-15046aec88d2"
   },
   "outputs": [
    {
     "data": {
      "text/plain": [
       "((40829, 32, 32, 3), (9700, 32, 32, 3))"
      ]
     },
     "execution_count": 11,
     "metadata": {
      "tags": []
     },
     "output_type": "execute_result"
    }
   ],
   "source": [
    "train_res = resize_data(train)\n",
    "test_res = resize_data(test)\n",
    "train_res.shape, test_res.shape"
   ]
  },
  {
   "cell_type": "markdown",
   "metadata": {
    "colab_type": "text",
    "id": "ZXBep5s2pGEt"
   },
   "source": [
    "**Creating our Neural Network**"
   ]
  },
  {
   "cell_type": "code",
   "execution_count": 12,
   "metadata": {
    "colab": {
     "base_uri": "https://localhost:8080/",
     "height": 137
    },
    "colab_type": "code",
    "id": "RtwgrLsZi2U7",
    "outputId": "7b014053-bbb5-4ed1-e578-b0781f10c978"
   },
   "outputs": [
    {
     "name": "stdout",
     "output_type": "stream",
     "text": [
      "WARNING:tensorflow:From /usr/local/lib/python3.6/dist-packages/tensorflow/python/framework/op_def_library.py:263: colocate_with (from tensorflow.python.framework.ops) is deprecated and will be removed in a future version.\n",
      "Instructions for updating:\n",
      "Colocations handled automatically by placer.\n",
      "WARNING:tensorflow:From /usr/local/lib/python3.6/dist-packages/keras/backend/tensorflow_backend.py:3445: calling dropout (from tensorflow.python.ops.nn_ops) with keep_prob is deprecated and will be removed in a future version.\n",
      "Instructions for updating:\n",
      "Please use `rate` instead of `keep_prob`. Rate should be set to `rate = 1 - keep_prob`.\n"
     ]
    }
   ],
   "source": [
    "CNNModel = Sequential()\n",
    "CNNModel.add(Conv2D(32, (3, 3), padding = \"same\", input_shape = (32, 32, 3)))\n",
    "CNNModel.add(Activation(\"relu\"))\n",
    "CNNModel.add(Conv2D(32, (3, 3)))\n",
    "CNNModel.add(Activation(\"relu\"))\n",
    "CNNModel.add(MaxPooling2D(pool_size = (2, 2)))\n",
    "CNNModel.add(Dropout(0.25))\n",
    "\n",
    "CNNModel.add(Conv2D(64, (3, 3), padding = \"same\"))\n",
    "CNNModel.add(Activation(\"relu\"))\n",
    "CNNModel.add(Conv2D(64, (3, 3)))\n",
    "CNNModel.add(Activation(\"relu\"))\n",
    "CNNModel.add(MaxPooling2D(pool_size = (2, 2)))\n",
    "CNNModel.add(Dropout(0.25))\n",
    "\n",
    "CNNModel.add(Conv2D(128, (3, 3), activation='relu', padding='same'))\n",
    "CNNModel.add(Dropout(0.2))\n",
    "CNNModel.add(Conv2D(128, (3, 3), activation='relu', padding='same'))\n",
    "CNNModel.add(MaxPooling2D(pool_size=(2, 2)))\n",
    "CNNModel.add(Dropout(0.2))\n",
    "\n",
    "CNNModel.add(Flatten())\n",
    "CNNModel.add(Dense(1024))\n",
    "CNNModel.add(Activation(\"relu\"))\n",
    "CNNModel.add(Dropout(0.5))\n",
    "CNNModel.add(Dense(10))\n",
    "CNNModel.add(Activation(\"softmax\"))\n",
    "\n",
    "CNNModel.compile(optimizer = \"adam\", loss = \"sparse_categorical_crossentropy\", metrics = [\"accuracy\"])"
   ]
  },
  {
   "cell_type": "markdown",
   "metadata": {
    "colab_type": "text",
    "id": "R6WccXX1pPVu"
   },
   "source": [
    "**Training the Model**"
   ]
  },
  {
   "cell_type": "code",
   "execution_count": 13,
   "metadata": {
    "colab": {
     "base_uri": "https://localhost:8080/",
     "height": 2445
    },
    "colab_type": "code",
    "id": "tS3LHDjPi2U-",
    "outputId": "8637d64e-ea86-41a6-820d-b6cfd6a541de"
   },
   "outputs": [
    {
     "name": "stdout",
     "output_type": "stream",
     "text": [
      "WARNING:tensorflow:From /usr/local/lib/python3.6/dist-packages/tensorflow/python/ops/math_ops.py:3066: to_int32 (from tensorflow.python.ops.math_ops) is deprecated and will be removed in a future version.\n",
      "Instructions for updating:\n",
      "Use tf.cast instead.\n",
      "Epoch 1/70\n",
      "40829/40829 [==============================] - 12s 299us/step - loss: 2.1285 - acc: 0.2033\n",
      "Epoch 2/70\n",
      "40829/40829 [==============================] - 10s 249us/step - loss: 1.8437 - acc: 0.3363\n",
      "Epoch 3/70\n",
      "40829/40829 [==============================] - 10s 248us/step - loss: 1.7126 - acc: 0.3877\n",
      "Epoch 4/70\n",
      "40829/40829 [==============================] - 10s 248us/step - loss: 1.5987 - acc: 0.4354\n",
      "Epoch 5/70\n",
      "40829/40829 [==============================] - 10s 248us/step - loss: 1.5180 - acc: 0.4671\n",
      "Epoch 6/70\n",
      "40829/40829 [==============================] - 10s 252us/step - loss: 1.4457 - acc: 0.4971\n",
      "Epoch 7/70\n",
      "40829/40829 [==============================] - 10s 255us/step - loss: 1.4003 - acc: 0.5186\n",
      "Epoch 8/70\n",
      "40829/40829 [==============================] - 10s 252us/step - loss: 1.3553 - acc: 0.5331\n",
      "Epoch 9/70\n",
      "40829/40829 [==============================] - 10s 251us/step - loss: 1.3072 - acc: 0.5559\n",
      "Epoch 10/70\n",
      "40829/40829 [==============================] - 10s 251us/step - loss: 1.2750 - acc: 0.5682\n",
      "Epoch 11/70\n",
      "40829/40829 [==============================] - 10s 251us/step - loss: 1.2439 - acc: 0.5732\n",
      "Epoch 12/70\n",
      "40829/40829 [==============================] - 10s 250us/step - loss: 1.2146 - acc: 0.5884\n",
      "Epoch 13/70\n",
      "40829/40829 [==============================] - 10s 248us/step - loss: 1.1770 - acc: 0.6015\n",
      "Epoch 14/70\n",
      "40829/40829 [==============================] - 10s 253us/step - loss: 1.1584 - acc: 0.6092\n",
      "Epoch 15/70\n",
      "40829/40829 [==============================] - 10s 249us/step - loss: 1.1287 - acc: 0.6186\n",
      "Epoch 16/70\n",
      "40829/40829 [==============================] - 10s 247us/step - loss: 1.1103 - acc: 0.6266\n",
      "Epoch 17/70\n",
      "40829/40829 [==============================] - 10s 247us/step - loss: 1.0923 - acc: 0.6305\n",
      "Epoch 18/70\n",
      "40829/40829 [==============================] - 10s 249us/step - loss: 1.0670 - acc: 0.6408\n",
      "Epoch 19/70\n",
      "40829/40829 [==============================] - 10s 250us/step - loss: 1.0499 - acc: 0.6465\n",
      "Epoch 20/70\n",
      "40829/40829 [==============================] - 10s 254us/step - loss: 1.0237 - acc: 0.6539\n",
      "Epoch 21/70\n",
      "40829/40829 [==============================] - 10s 252us/step - loss: 1.0115 - acc: 0.6619\n",
      "Epoch 22/70\n",
      "40829/40829 [==============================] - 10s 250us/step - loss: 0.9932 - acc: 0.6650\n",
      "Epoch 23/70\n",
      "40829/40829 [==============================] - 10s 249us/step - loss: 0.9779 - acc: 0.6714\n",
      "Epoch 24/70\n",
      "40829/40829 [==============================] - 10s 251us/step - loss: 0.9641 - acc: 0.6739\n",
      "Epoch 25/70\n",
      "40829/40829 [==============================] - 10s 247us/step - loss: 0.9490 - acc: 0.6806\n",
      "Epoch 26/70\n",
      "40829/40829 [==============================] - 10s 247us/step - loss: 0.9295 - acc: 0.6848\n",
      "Epoch 27/70\n",
      "40829/40829 [==============================] - 10s 251us/step - loss: 0.9103 - acc: 0.6915\n",
      "Epoch 28/70\n",
      "40829/40829 [==============================] - 10s 249us/step - loss: 0.8999 - acc: 0.6977\n",
      "Epoch 29/70\n",
      "40829/40829 [==============================] - 10s 250us/step - loss: 0.8896 - acc: 0.6991\n",
      "Epoch 30/70\n",
      "40829/40829 [==============================] - 10s 251us/step - loss: 0.8746 - acc: 0.7050\n",
      "Epoch 31/70\n",
      "40829/40829 [==============================] - 10s 248us/step - loss: 0.8631 - acc: 0.7098\n",
      "Epoch 32/70\n",
      "40829/40829 [==============================] - 10s 249us/step - loss: 0.8516 - acc: 0.7110\n",
      "Epoch 33/70\n",
      "40829/40829 [==============================] - 10s 255us/step - loss: 0.8393 - acc: 0.7126\n",
      "Epoch 34/70\n",
      "40829/40829 [==============================] - 10s 253us/step - loss: 0.8326 - acc: 0.7168\n",
      "Epoch 35/70\n",
      "40829/40829 [==============================] - 10s 250us/step - loss: 0.8102 - acc: 0.7238\n",
      "Epoch 36/70\n",
      "40829/40829 [==============================] - 10s 252us/step - loss: 0.8044 - acc: 0.7284\n",
      "Epoch 37/70\n",
      "40829/40829 [==============================] - 10s 249us/step - loss: 0.7970 - acc: 0.7291\n",
      "Epoch 38/70\n",
      "40829/40829 [==============================] - 10s 250us/step - loss: 0.7852 - acc: 0.7327\n",
      "Epoch 39/70\n",
      "40829/40829 [==============================] - 10s 249us/step - loss: 0.7659 - acc: 0.7366\n",
      "Epoch 40/70\n",
      "40829/40829 [==============================] - 10s 248us/step - loss: 0.7708 - acc: 0.7341\n",
      "Epoch 41/70\n",
      "40829/40829 [==============================] - 10s 253us/step - loss: 0.7561 - acc: 0.7401\n",
      "Epoch 42/70\n",
      "40829/40829 [==============================] - 10s 248us/step - loss: 0.7473 - acc: 0.7446\n",
      "Epoch 43/70\n",
      "40829/40829 [==============================] - 10s 250us/step - loss: 0.7391 - acc: 0.7484\n",
      "Epoch 44/70\n",
      "40829/40829 [==============================] - 10s 249us/step - loss: 0.7331 - acc: 0.7483\n",
      "Epoch 45/70\n",
      "40829/40829 [==============================] - 10s 250us/step - loss: 0.7224 - acc: 0.7509\n",
      "Epoch 46/70\n",
      "40829/40829 [==============================] - 10s 254us/step - loss: 0.7220 - acc: 0.7531\n",
      "Epoch 47/70\n",
      "40829/40829 [==============================] - 10s 247us/step - loss: 0.7085 - acc: 0.7568\n",
      "Epoch 48/70\n",
      "40829/40829 [==============================] - 10s 249us/step - loss: 0.7055 - acc: 0.7572\n",
      "Epoch 49/70\n",
      "40829/40829 [==============================] - 10s 251us/step - loss: 0.6960 - acc: 0.7611\n",
      "Epoch 50/70\n",
      "40829/40829 [==============================] - 10s 249us/step - loss: 0.6960 - acc: 0.7632\n",
      "Epoch 51/70\n",
      "40829/40829 [==============================] - 10s 254us/step - loss: 0.6876 - acc: 0.7624\n",
      "Epoch 52/70\n",
      "40829/40829 [==============================] - 10s 250us/step - loss: 0.6688 - acc: 0.7676\n",
      "Epoch 53/70\n",
      "40829/40829 [==============================] - 10s 248us/step - loss: 0.6761 - acc: 0.7668\n",
      "Epoch 54/70\n",
      "40829/40829 [==============================] - 10s 249us/step - loss: 0.6593 - acc: 0.7742\n",
      "Epoch 55/70\n",
      "40829/40829 [==============================] - 10s 246us/step - loss: 0.6552 - acc: 0.7717\n",
      "Epoch 56/70\n",
      "40829/40829 [==============================] - 10s 250us/step - loss: 0.6580 - acc: 0.7753\n",
      "Epoch 57/70\n",
      "40829/40829 [==============================] - 10s 248us/step - loss: 0.6490 - acc: 0.7769\n",
      "Epoch 58/70\n",
      "40829/40829 [==============================] - 10s 251us/step - loss: 0.6411 - acc: 0.7785\n",
      "Epoch 59/70\n",
      "40829/40829 [==============================] - 10s 252us/step - loss: 0.6425 - acc: 0.7783\n",
      "Epoch 60/70\n",
      "40829/40829 [==============================] - 10s 249us/step - loss: 0.6221 - acc: 0.7846\n",
      "Epoch 61/70\n",
      "40829/40829 [==============================] - 10s 249us/step - loss: 0.6282 - acc: 0.7838\n",
      "Epoch 62/70\n",
      "40829/40829 [==============================] - 10s 251us/step - loss: 0.6264 - acc: 0.7851\n",
      "Epoch 63/70\n",
      "40829/40829 [==============================] - 10s 248us/step - loss: 0.6155 - acc: 0.7856\n",
      "Epoch 64/70\n",
      "40829/40829 [==============================] - 10s 248us/step - loss: 0.6108 - acc: 0.7883\n",
      "Epoch 65/70\n",
      "40829/40829 [==============================] - 10s 248us/step - loss: 0.6123 - acc: 0.7899\n",
      "Epoch 66/70\n",
      "40829/40829 [==============================] - 10s 249us/step - loss: 0.6049 - acc: 0.7895\n",
      "Epoch 67/70\n",
      "40829/40829 [==============================] - 10s 248us/step - loss: 0.6044 - acc: 0.7914\n",
      "Epoch 68/70\n",
      "40829/40829 [==============================] - 10s 249us/step - loss: 0.5955 - acc: 0.7943\n",
      "Epoch 69/70\n",
      "40829/40829 [==============================] - 10s 252us/step - loss: 0.5849 - acc: 0.7946\n",
      "Epoch 70/70\n",
      "40829/40829 [==============================] - 10s 247us/step - loss: 0.5907 - acc: 0.7961\n"
     ]
    },
    {
     "data": {
      "text/plain": [
       "<keras.callbacks.History at 0x7f5650003240>"
      ]
     },
     "execution_count": 13,
     "metadata": {
      "tags": []
     },
     "output_type": "execute_result"
    }
   ],
   "source": [
    "CNNModel.fit(train_res, label, epochs=70, batch_size = 200, shuffle = True)"
   ]
  },
  {
   "cell_type": "markdown",
   "metadata": {
    "colab_type": "text",
    "id": "pd0xqUABF_EH"
   },
   "source": [
    "**Saving trained model to file**"
   ]
  },
  {
   "cell_type": "markdown",
   "metadata": {
    "colab_type": "text",
    "id": "tTcv9mdHrxnG"
   },
   "source": [
    "**Generating test predictions**"
   ]
  },
  {
   "cell_type": "code",
   "execution_count": 14,
   "metadata": {
    "colab": {
     "base_uri": "https://localhost:8080/",
     "height": 33
    },
    "colab_type": "code",
    "id": "7aImOS40i2VC",
    "outputId": "bf3711cf-4aff-410e-ac1e-2336eca8885c"
   },
   "outputs": [
    {
     "data": {
      "text/plain": [
       "array([4, 0, 1, ..., 8, 7, 3])"
      ]
     },
     "execution_count": 14,
     "metadata": {
      "tags": []
     },
     "output_type": "execute_result"
    }
   ],
   "source": [
    "predictions = CNNModel.predict(test_res)\n",
    "predictions = np.argmax(predictions, axis = 1)\n",
    "predictions"
   ]
  },
  {
   "cell_type": "markdown",
   "metadata": {
    "colab_type": "text",
    "id": "iyKqQmkdr2mT"
   },
   "source": [
    "**Writing predictions to file**"
   ]
  },
  {
   "cell_type": "code",
   "execution_count": 0,
   "metadata": {
    "colab": {},
    "colab_type": "code",
    "id": "G5DFG7zmi2VG"
   },
   "outputs": [],
   "source": [
    "write_output(predictions)"
   ]
  }
 ],
 "metadata": {
  "accelerator": "GPU",
  "colab": {
   "collapsed_sections": [],
   "name": "dm_nn.ipynb",
   "provenance": [],
   "version": "0.3.2"
  },
  "kernelspec": {
   "display_name": "Python 3",
   "language": "python",
   "name": "python3"
  },
  "language_info": {
   "codemirror_mode": {
    "name": "ipython",
    "version": 3
   },
   "file_extension": ".py",
   "mimetype": "text/x-python",
   "name": "python",
   "nbconvert_exporter": "python",
   "pygments_lexer": "ipython3",
   "version": "3.7.1"
  }
 },
 "nbformat": 4,
 "nbformat_minor": 1
}
